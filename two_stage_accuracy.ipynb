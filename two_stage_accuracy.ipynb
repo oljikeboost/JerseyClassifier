{
 "cells": [
  {
   "cell_type": "markdown",
   "metadata": {},
   "source": [
    "### In this notebook, we try to run two-stage pipeline. Namely, we first detect jersey number region , and then pass this crop to image classifier (trained on SVHN). And check its accuracy."
   ]
  },
  {
   "cell_type": "markdown",
   "metadata": {},
   "source": [
    "#### First, let's get some small crops of jersey numbers"
   ]
  },
  {
   "cell_type": "code",
   "execution_count": 1,
   "metadata": {},
   "outputs": [],
   "source": [
    "import mmcv\n",
    "import matplotlib.pyplot as plt\n",
    "import cv2\n",
    "import glob\n",
    "import os\n",
    "import json\n",
    "import time\n",
    "import random\n",
    "from tqdm.notebook import tqdm\n",
    "import numpy as np\n",
    "import torchvision\n",
    "from mmdet.apis import init_detector, inference_detector, inference_batch_detector\n",
    "\n",
    "import argparse\n",
    "import torch\n",
    "from PIL import Image\n",
    "from torchvision import transforms\n",
    "from torch.utils.data import Dataset, DataLoader\n",
    "import torch\n",
    "import torch.jit\n",
    "import torch.nn as nn"
   ]
  },
  {
   "cell_type": "code",
   "execution_count": 2,
   "metadata": {},
   "outputs": [],
   "source": [
    "imgs_dir = '../../data/player_tracking_frames/'\n",
    "# orig_anno_dir = sorted(glob.glob('../../PlayerTracking/data/raw_data/2018-11-28_Virginia_at_Maryland/*'))\n",
    "jersey_anno_dir = glob.glob('../../PlayerTracking/data/second_task/*')"
   ]
  },
  {
   "cell_type": "code",
   "execution_count": 3,
   "metadata": {
    "code_folding": [
     0
    ]
   },
   "outputs": [],
   "source": [
    "def crop_from_orig_anno(jersey_anno_dir, imgs_dir, offset = 3):\n",
    "    all_anno = []\n",
    "    \n",
    "    \n",
    "    \n",
    "    for anno_dir in tqdm(jersey_anno_dir): \n",
    "\n",
    "        js_dir  = sorted(glob.glob(anno_dir + '/*.json'))\n",
    "\n",
    "\n",
    "        for jersey_js in js_dir:\n",
    "\n",
    "            ### Load new jersey data\n",
    "            with open(jersey_js) as f:\n",
    "                jersey_data = json.load(f)\n",
    "\n",
    "            ### Load image data\n",
    "            img_path = os.path.join(imgs_dir, os.path.basename(anno_dir), \"frame_\" + os.path.basename(jersey_js).replace('.json', '.jpg'))\n",
    "            img = cv2.imread(img_path)\n",
    "\n",
    "            for shape in jersey_data['shapes']:\n",
    "\n",
    "                label = shape['label']\n",
    "                if 'j' in label:\n",
    "                    label_split = label.split('_')\n",
    "                    if len(label_split)==3:\n",
    "                        track_id = label_split[1]\n",
    "                        jersey_num = label_split[2]\n",
    "                    elif len(label_split)==4:\n",
    "                        track_id = label_split[1] + '_' + label_split[2]\n",
    "                        jersey_num = label_split[-1]\n",
    "                    \n",
    "                    bbox_ = np.array([[int(x) for x in y] for y in shape['points']])\n",
    "                    bbox_ = bbox_.flatten()\n",
    "\n",
    "                    bbox_img = img[bbox_[1] - offset: bbox_[3] + offset, \n",
    "                                   bbox_[0] - offset: bbox_[2] + offset, :]\n",
    "                    h,w,c = bbox_img.shape\n",
    "                    if h!=0 and w!=0:\n",
    "                        all_anno.append((bbox_img, jersey_num))\n",
    "                        \n",
    "    return all_anno"
   ]
  },
  {
   "cell_type": "code",
   "execution_count": 21,
   "metadata": {},
   "outputs": [
    {
     "data": {
      "application/vnd.jupyter.widget-view+json": {
       "model_id": "be266c66d9084527b0926b004cdaf341",
       "version_major": 2,
       "version_minor": 0
      },
      "text/plain": [
       "HBox(children=(HTML(value=''), FloatProgress(value=0.0, max=25.0), HTML(value='')))"
      ]
     },
     "metadata": {},
     "output_type": "display_data"
    },
    {
     "name": "stdout",
     "output_type": "stream",
     "text": [
      "\n",
      "Number of samples is  13607\n"
     ]
    }
   ],
   "source": [
    "all_anno = crop_from_orig_anno(jersey_anno_dir, imgs_dir)\n",
    "print(\"Number of samples is \", len(all_anno))"
   ]
  },
  {
   "cell_type": "code",
   "execution_count": 165,
   "metadata": {},
   "outputs": [
    {
     "name": "stdout",
     "output_type": "stream",
     "text": [
      "27.481884324244874 23.90218270008084\n"
     ]
    }
   ],
   "source": [
    "hs,ws = [], []\n",
    "for img, _ in all_anno:\n",
    "    h,w,_  = img.shape\n",
    "    hs.append(h)\n",
    "    ws.append(w)\n",
    "    \n",
    "print(sum(hs)/len(hs), sum(ws)/len(ws))"
   ]
  },
  {
   "cell_type": "code",
   "execution_count": 36,
   "metadata": {},
   "outputs": [
    {
     "name": "stdout",
     "output_type": "stream",
     "text": [
      "34\n"
     ]
    },
    {
     "data": {
      "text/plain": [
       "<matplotlib.image.AxesImage at 0x7f4a5171c450>"
      ]
     },
     "execution_count": 36,
     "metadata": {},
     "output_type": "execute_result"
    },
    {
     "data": {
      "image/png": "[encoded data removed]",
      "text/plain": [
       "<Figure size 432x288 with 1 Axes>"
      ]
     },
     "metadata": {
      "needs_background": "light"
     },
     "output_type": "display_data"
    }
   ],
   "source": [
    "idx = 0\n",
    "idx = random.choice(list(range(len(all_anno))))\n",
    "print(all_anno[idx][1])\n",
    "plt.imshow(all_anno[idx][0])"
   ]
  },
  {
   "cell_type": "markdown",
   "metadata": {},
   "source": [
    "### Now let's run the best image classifier in the world!"
   ]
  },
  {
   "cell_type": "code",
   "execution_count": null,
   "metadata": {},
   "outputs": [],
   "source": [
    "crct = 0\n",
    "results = []\n",
    "for crop, label in tqdm(all_anno):\n",
    "    res = _infer_jersey(class_model, crop)\n",
    "    res = int(''.join([str(x) for x in res if x!=10]))\n",
    "    \n",
    "    results.append((res, label))\n",
    "    if res == int(label):\n",
    "        crct += 1\n",
    "        \n",
    "\n",
    "print('Accuracy is ', (crct / len(all_anno))*100)        "
   ]
  },
  {
   "cell_type": "code",
   "execution_count": 2,
   "metadata": {
    "code_folding": [
     0,
     121
    ]
   },
   "outputs": [],
   "source": [
    "class JerseyModel(torch.nn.Module):\n",
    "    CHECKPOINT_FILENAME_PATTERN = 'model-{}.pth'\n",
    "\n",
    "    # __constants__ = ['_hidden1', '_hidden2', '_hidden3', '_hidden4', '_hidden5',\n",
    "    #                  '_hidden6', '_hidden7', '_hidden8', '_hidden9', '_hidden10',\n",
    "    #                  '_features', '_classifier',\n",
    "    #                  '_digit_length', '_digit1', '_digit2', '_digit3', '_digit4', '_digit5']\n",
    "\n",
    "    def __init__(self, inter_size=7):\n",
    "        super(JerseyModel, self).__init__()\n",
    "\n",
    "        self.inter_size = inter_size\n",
    "        self._hidden1 = nn.Sequential(\n",
    "            nn.Conv2d(in_channels=3, out_channels=48, kernel_size=5, padding=2),\n",
    "            nn.BatchNorm2d(num_features=48),\n",
    "            nn.ReLU(),\n",
    "            nn.MaxPool2d(kernel_size=2, stride=2, padding=1),\n",
    "            nn.Dropout(0.2)\n",
    "        )\n",
    "        self._hidden2 = nn.Sequential(\n",
    "            nn.Conv2d(in_channels=48, out_channels=64, kernel_size=5, padding=2),\n",
    "            nn.BatchNorm2d(num_features=64),\n",
    "            nn.ReLU(),\n",
    "            nn.MaxPool2d(kernel_size=2, stride=1, padding=1),\n",
    "            nn.Dropout(0.2)\n",
    "        )\n",
    "        self._hidden3 = nn.Sequential(\n",
    "            nn.Conv2d(in_channels=64, out_channels=128, kernel_size=5, padding=2),\n",
    "            nn.BatchNorm2d(num_features=128),\n",
    "            nn.ReLU(),\n",
    "            nn.MaxPool2d(kernel_size=2, stride=2, padding=1),\n",
    "            nn.Dropout(0.2)\n",
    "        )\n",
    "        self._hidden4 = nn.Sequential(\n",
    "            nn.Conv2d(in_channels=128, out_channels=160, kernel_size=5, padding=2),\n",
    "            nn.BatchNorm2d(num_features=160),\n",
    "            nn.ReLU(),\n",
    "            nn.MaxPool2d(kernel_size=2, stride=1, padding=1),\n",
    "            nn.Dropout(0.2)\n",
    "        )\n",
    "        self._hidden5 = nn.Sequential(\n",
    "            nn.Conv2d(in_channels=160, out_channels=192, kernel_size=5, padding=2),\n",
    "            nn.BatchNorm2d(num_features=192),\n",
    "            nn.ReLU(),\n",
    "            nn.MaxPool2d(kernel_size=2, stride=2, padding=1),\n",
    "            nn.Dropout(0.2)\n",
    "        )\n",
    "        self._hidden6 = nn.Sequential(\n",
    "            nn.Conv2d(in_channels=192, out_channels=192, kernel_size=5, padding=2),\n",
    "            nn.BatchNorm2d(num_features=192),\n",
    "            nn.ReLU(),\n",
    "            nn.MaxPool2d(kernel_size=2, stride=1, padding=1),\n",
    "            nn.Dropout(0.2)\n",
    "        )\n",
    "        self._hidden7 = nn.Sequential(\n",
    "            nn.Conv2d(in_channels=192, out_channels=192, kernel_size=5, padding=2),\n",
    "            nn.BatchNorm2d(num_features=192),\n",
    "            nn.ReLU(),\n",
    "            nn.MaxPool2d(kernel_size=2, stride=2, padding=1),\n",
    "            nn.Dropout(0.2)\n",
    "        )\n",
    "        self._hidden8 = nn.Sequential(\n",
    "            nn.Conv2d(in_channels=192, out_channels=192, kernel_size=5, padding=2),\n",
    "            nn.BatchNorm2d(num_features=192),\n",
    "            nn.ReLU(),\n",
    "            nn.MaxPool2d(kernel_size=2, stride=1, padding=1),\n",
    "            nn.Dropout(0.2)\n",
    "        )\n",
    "        self._hidden9 = nn.Sequential(\n",
    "            nn.Linear(192 * self.inter_size * self.inter_size, 3072),\n",
    "            nn.ReLU()\n",
    "        )\n",
    "        self._hidden10 = nn.Sequential(\n",
    "            nn.Linear(3072, 3072),\n",
    "            nn.ReLU()\n",
    "        )\n",
    "\n",
    "        self._digit_length = nn.Sequential(nn.Linear(3072, 4))\n",
    "        self._digit1 = nn.Sequential(nn.Linear(3072, 11))\n",
    "        self._digit2 = nn.Sequential(nn.Linear(3072, 11))\n",
    "\n",
    "\n",
    "    # @torch.jit.script_method\n",
    "    def forward(self, x):\n",
    "        # print(x.size())\n",
    "        x = self._hidden1(x)\n",
    "        x = self._hidden2(x)\n",
    "        x = self._hidden3(x)\n",
    "        x = self._hidden4(x)\n",
    "        x = self._hidden5(x)\n",
    "        x = self._hidden6(x)\n",
    "        x = self._hidden7(x)\n",
    "        x = self._hidden8(x)\n",
    "        # print(x.size())\n",
    "        x = x.view(x.size(0), 192 * self.inter_size * self.inter_size)\n",
    "        x = self._hidden9(x)\n",
    "        x = self._hidden10(x)\n",
    "\n",
    "        length_logits = self._digit_length(x)\n",
    "        digit1_logits = self._digit1(x)\n",
    "        digit2_logits = self._digit2(x)\n",
    "\n",
    "\n",
    "        return length_logits, digit1_logits, digit2_logits\n",
    "\n",
    "    def store(self, path_to_dir, step, maximum=5):\n",
    "        path_to_models = glob.glob(os.path.join(path_to_dir, Model.CHECKPOINT_FILENAME_PATTERN.format('*')))\n",
    "        if len(path_to_models) == maximum:\n",
    "            min_step = min([int(path_to_model.split('/')[-1][6:-4]) for path_to_model in path_to_models])\n",
    "            path_to_min_step_model = os.path.join(path_to_dir, Model.CHECKPOINT_FILENAME_PATTERN.format(min_step))\n",
    "            os.remove(path_to_min_step_model)\n",
    "\n",
    "        path_to_checkpoint_file = os.path.join(path_to_dir, Model.CHECKPOINT_FILENAME_PATTERN.format(step))\n",
    "        torch.save(self.state_dict(), path_to_checkpoint_file)\n",
    "        return path_to_checkpoint_file\n",
    "\n",
    "    def restore(self, path_to_checkpoint_file):\n",
    "        self.load_state_dict(torch.load(path_to_checkpoint_file))\n",
    "        step = int(path_to_checkpoint_file.split('/')[-1][6:-4])\n",
    "        return step\n",
    "    \n",
    "def _infer_jersey(model, numpy_image):\n",
    "\n",
    "\n",
    "    with torch.no_grad():\n",
    "        transform = transforms.Compose([\n",
    "            transforms.CenterCrop([54, 54]),\n",
    "            transforms.ToTensor(),\n",
    "            transforms.Normalize([0.5, 0.5, 0.5], [0.5, 0.5, 0.5])\n",
    "        ])\n",
    "        \n",
    "        numpy_image = cv2.resize(numpy_image, (64, 64))\n",
    "\n",
    "        \n",
    "        image = Image.fromarray(numpy_image)\n",
    "        image = transform(image)\n",
    "        images = image.unsqueeze(dim=0).cuda()\n",
    "\n",
    "        length_logits, digit1_logits, digit2_logits= model.eval()(images)\n",
    "\n",
    "        length_prediction = length_logits.max(1)[1]\n",
    "        digit1_prediction = digit1_logits.max(1)[1]\n",
    "        digit2_prediction = digit2_logits.max(1)[1]\n",
    "  \n",
    "\n",
    "    return [digit1_prediction.item(), digit2_prediction.item()]"
   ]
  },
  {
   "cell_type": "code",
   "execution_count": 4,
   "metadata": {},
   "outputs": [],
   "source": [
    "# class_model = Model()\n",
    "class_model = JerseyModel(7)\n",
    "class_model.restore('../SVHNClassifier-PyTorch/work_dirs/basic_randaug/model-14000.pth')\n",
    "class_model = class_model.eval().cuda()"
   ]
  },
  {
   "cell_type": "code",
   "execution_count": 24,
   "metadata": {},
   "outputs": [
    {
     "name": "stdout",
     "output_type": "stream",
     "text": [
      "number of params in basic model is 42.758106 M\n"
     ]
    }
   ],
   "source": [
    "print(\"number of params in basic model is {} M\".format(sum(p.numel() for p in class_model.parameters()) / 1000000))"
   ]
  },
  {
   "cell_type": "markdown",
   "metadata": {},
   "source": [
    "#### Efficient Net"
   ]
  },
  {
   "cell_type": "code",
   "execution_count": 15,
   "metadata": {},
   "outputs": [
    {
     "name": "stdout",
     "output_type": "stream",
     "text": [
      "Loaded pretrained weights for efficientnet-b0\n"
     ]
    }
   ],
   "source": [
    "from efficientnet_pytorch import EfficientNet, get_model_params, round_filters\n",
    "effNet = EfficientNet.from_pretrained('efficientnet-b0', num_classes=4)"
   ]
  },
  {
   "cell_type": "code",
   "execution_count": 16,
   "metadata": {},
   "outputs": [],
   "source": [
    "blocks_args, global_params = get_model_params('efficientnet-b0', {'image_size':56})"
   ]
  },
  {
   "cell_type": "code",
   "execution_count": 17,
   "metadata": {
    "code_folding": [
     0
    ]
   },
   "outputs": [],
   "source": [
    "class EfficientJerseyModel(EfficientNet):\n",
    "    CHECKPOINT_FILENAME_PATTERN = 'model-{}.pth'\n",
    "\n",
    "    def __init__(self, blocks_args, global_params):\n",
    "        super(EfficientJerseyModel, self).__init__(blocks_args, global_params)\n",
    "        \n",
    "        self.last_channel = round_filters(1280, global_params)\n",
    "        \n",
    "        self._fc = nn.Sequential(\n",
    "            nn.Dropout(0.2),\n",
    "            nn.Linear(self.last_channel, 4))\n",
    "        self._digit1 = nn.Sequential(\n",
    "            nn.Dropout(0.2),\n",
    "            nn.Linear(self.last_channel, 11))\n",
    "        self._digit2 = nn.Sequential(\n",
    "            nn.Dropout(0.2),\n",
    "            nn.Linear(self.last_channel, 11))\n",
    "\n",
    "\n",
    "\n",
    "    def forward(self, inputs):\n",
    "        \"\"\"EfficientNet's forward function.\n",
    "           Calls extract_features to extract features, applies final linear layer, and returns logits.\n",
    "        Args:\n",
    "            inputs (tensor): Input tensor.\n",
    "        Returns:\n",
    "            Output of this model after processing.\n",
    "        \"\"\"\n",
    "        # Convolution layers\n",
    "        x = self.extract_features(inputs)\n",
    "        # Pooling and final linear layer\n",
    "        x = self._avg_pooling(x)\n",
    "        \n",
    "        \n",
    "        if self._global_params.include_top:\n",
    "            x = x.flatten(start_dim=1)\n",
    "            x = self._dropout(x)\n",
    "            \n",
    "            length_logits = self._fc(x)\n",
    "            digit1_logits = self._digit1(x)\n",
    "            digit2_logits = self._digit2(x)\n",
    "\n",
    "        return length_logits, digit1_logits, digit2_logits  \n",
    "effNet = EfficientJerseyModel(blocks_args, global_params)"
   ]
  },
  {
   "cell_type": "code",
   "execution_count": 18,
   "metadata": {},
   "outputs": [
    {
     "name": "stdout",
     "output_type": "stream",
     "text": [
      "number of params in effNet is 4.040854 M\n"
     ]
    }
   ],
   "source": [
    "print(\"number of params in effNet is {} M\".format(sum(p.numel() for p in effNet.parameters()) / 1000000))"
   ]
  },
  {
   "cell_type": "code",
   "execution_count": 19,
   "metadata": {},
   "outputs": [
    {
     "name": "stdout",
     "output_type": "stream",
     "text": [
      "number of params in resnet101 is 44.54916 M\n"
     ]
    }
   ],
   "source": [
    "resnet101 = torchvision.models.resnet101()\n",
    "print(\"number of params in resnet101 is {} M\".format(sum(p.numel() for p in resnet101.parameters()) / 1000000))"
   ]
  },
  {
   "cell_type": "markdown",
   "metadata": {},
   "source": [
    "### Now, it is time to run the whole pipeline!"
   ]
  },
  {
   "cell_type": "code",
   "execution_count": 6,
   "metadata": {
    "code_folding": [
     0
    ]
   },
   "outputs": [
    {
     "data": {
      "application/vnd.jupyter.widget-view+json": {
       "model_id": "636e7e097e5b41c4ad1ca2552aaf08ae",
       "version_major": 2,
       "version_minor": 0
      },
      "text/plain": [
       "HBox(children=(HTML(value=''), FloatProgress(value=0.0, max=11.0), HTML(value='')))"
      ]
     },
     "metadata": {},
     "output_type": "display_data"
    },
    {
     "name": "stdout",
     "output_type": "stream",
     "text": [
      "\n",
      "Number of samples is  5099\n"
     ]
    }
   ],
   "source": [
    "val_dirs = ['2020.01.04-Duke_at_MiamiFL', '2019-01-12_Tennessee_at_Florida', '2020.02.03-NorthCarolina_at_FloridaState', \n",
    "           '2018.11.27-Indiana_at_Duke', '2019-02-11_Virginia_at_North_Carolina', '2019.01.22-Duke_at_Pittsburgh', \n",
    "           '2019.02.26-Duke_at_VirginiaTech', '2019.03.14-ACC-Syracuse_at_Duke', \n",
    "           '2020.02.13-Colorado_at_Oregon', '2020.02.22-Michigan_at_Purdue', \n",
    "            '2020.02.25-NorthCarolinaState_at_NorthCarolina']\n",
    "val_dirs = [os.path.join('../../PlayerTracking/data/second_task/', x) for x in val_dirs]\n",
    "\n",
    "val_anno = crop_from_orig_anno(val_dirs, imgs_dir, 2)\n",
    "print(\"Number of samples is \", len(val_anno))"
   ]
  },
  {
   "cell_type": "code",
   "execution_count": 7,
   "metadata": {
    "code_folding": [
     2
    ]
   },
   "outputs": [
    {
     "data": {
      "application/vnd.jupyter.widget-view+json": {
       "model_id": "787f72e70e954c90b2bc55cfbeb02f87",
       "version_major": 2,
       "version_minor": 0
      },
      "text/plain": [
       "HBox(children=(HTML(value=''), FloatProgress(value=0.0, max=5099.0), HTML(value='')))"
      ]
     },
     "metadata": {},
     "output_type": "display_data"
    },
    {
     "name": "stdout",
     "output_type": "stream",
     "text": [
      "\n",
      "Accuracy on val set using original crops is  80.01568935085311\n"
     ]
    }
   ],
   "source": [
    "crct = 0\n",
    "results = []\n",
    "for crop, label in tqdm(val_anno):\n",
    "    res = _infer_jersey(class_model, crop) \n",
    "    res = int(''.join([str(x) for x in res if x!=10]))\n",
    "\n",
    "    \n",
    "    results.append((res, label))\n",
    "    if res == int(label):\n",
    "        crct += 1\n",
    "        \n",
    "\n",
    "print('Accuracy on val set using original crops is ', (crct / len(val_anno))*100)        "
   ]
  },
  {
   "cell_type": "markdown",
   "metadata": {},
   "source": [
    "#### After getting the accuracy of classifier on original crops, we can move futher to detector crops."
   ]
  },
  {
   "cell_type": "code",
   "execution_count": 2,
   "metadata": {},
   "outputs": [],
   "source": [
    "### Config and model weights path\n",
    "config_file = '/home/ubuntu/oljike/BallTracking/mmdetection/configs/yolo_jersey/yolov3_d53_320_273e_jersey.py'\n",
    "checkpoint_file = '/home/ubuntu/oljike/BallTracking/mmdetection/work_dirs/jersey_region_yolov3-320/epoch_80.pth'\n",
    "\n",
    "# build the model from a config file and a checkpoint file\n",
    "det_model = init_detector(config_file, checkpoint_file, device='cuda:0')"
   ]
  },
  {
   "cell_type": "code",
   "execution_count": 8,
   "metadata": {
    "code_folding": [
     0
    ]
   },
   "outputs": [],
   "source": [
    "crop_dirs = ['2020.01.04-Duke_at_MiamiFL', '2019-01-12_Tennessee_at_Florida', '2020.02.03-NorthCarolina_at_FloridaState', \n",
    "           '2018.11.27-Indiana_at_Duke', '2019-02-11_Virginia_at_North_Carolina', '2019.01.22-Duke_at_Pittsburgh', \n",
    "           '2019.02.26-Duke_at_VirginiaTech', '2019.03.14-ACC-Syracuse_at_Duke', \n",
    "           '2020.02.13-Colorado_at_Oregon', '2020.02.22-Michigan_at_Purdue', \n",
    "            '2020.02.25-NorthCarolinaState_at_NorthCarolina']\n",
    "crop_dirs = [os.path.join('/home/ubuntu/oljike/ocr_jersey/yolo_jersey_region/data/player_crops/', x) for x in crop_dirs]"
   ]
  },
  {
   "cell_type": "code",
   "execution_count": 9,
   "metadata": {},
   "outputs": [],
   "source": [
    "with open('./data/detector_val_path.txt') as f:\n",
    "    val_paths = f.readlines()"
   ]
  },
  {
   "cell_type": "code",
   "execution_count": 39,
   "metadata": {
    "code_folding": [
     0,
     38
    ]
   },
   "outputs": [
    {
     "data": {
      "application/vnd.jupyter.widget-view+json": {
       "model_id": "b0c6dfe9171b4444b1c7df15a69472bd",
       "version_major": 2,
       "version_minor": 0
      },
      "text/plain": [
       "HBox(children=(HTML(value=''), FloatProgress(value=0.0, max=318.0), HTML(value='')))"
      ]
     },
     "metadata": {},
     "output_type": "display_data"
    },
    {
     "name": "stdout",
     "output_type": "stream",
     "text": [
      "\n",
      "Accuracy using the detector is  77.75157232704403\n"
     ]
    }
   ],
   "source": [
    "def infer_single(val_paths, det_model, class_model):\n",
    "    \n",
    "    all_ = 0\n",
    "    crct = 0\n",
    "    offset = 2\n",
    "    \n",
    "    for img_path in tqdm(val_paths):\n",
    "\n",
    "        img = cv2.imread(img_path.strip())\n",
    "\n",
    "        result = inference_detector(det_model, img)[0]\n",
    "        if len(result)==0: \n",
    "            all_ += 1\n",
    "            continue\n",
    "\n",
    "        max_res = max(result, key=lambda x: x[-1]).astype(np.int)    \n",
    "        jersey_crop = img[max_res[1] - offset: max_res[3] + offset, \n",
    "                          max_res[0] - offset: max_res[2] + offset, :]\n",
    "\n",
    "\n",
    "        if 0 in jersey_crop.shape:\n",
    "            jersey_crop = img[max_res[1]: max_res[3], \n",
    "                          max_res[0] - offset: max_res[2], :]\n",
    "        if 0 in jersey_crop.shape:\n",
    "            all_ += 1\n",
    "            continue\n",
    "\n",
    "        jersey_res = _infer_jersey(class_model, jersey_crop)\n",
    "        jersey_res = int(''.join([str(x) for x in jersey_res if x!=10]))\n",
    "\n",
    "        label = os.path.basename(img_path).split('_')[-1].replace('.jpg', '')\n",
    "\n",
    "        if jersey_res==int(label):\n",
    "            crct += 1\n",
    "        all_ += 1\n",
    "\n",
    "    print('Accuracy using the detector is ', 100*(crct / all_))\n",
    "\n",
    "def infer_batch(val_paths, det_model, class_model):\n",
    "    \n",
    "    all_ = 0\n",
    "    crct = 0\n",
    "    offset = 2\n",
    "    bs = 16\n",
    "    \n",
    "    chunks = (len(val_paths) - 1) // bs + 1\n",
    "    for i in tqdm(range(chunks)):\n",
    "        batch = val_paths[i*bs:(i+1)*bs]\n",
    "\n",
    "        \n",
    "        inp_data = []\n",
    "        img_paths = []\n",
    "        for img_path in batch:\n",
    "            img_paths.append(img_path.strip())\n",
    "            img = cv2.imread(img_path.strip())\n",
    "            inp_data.append(img.copy())\n",
    "\n",
    "            \n",
    "        all_results = inference_batch_detector(det_model, inp_data)\n",
    "        for idx, result in enumerate(all_results):\n",
    "            \n",
    "            if len(result[0])==0: \n",
    "                all_ += 1\n",
    "                continue\n",
    "            \n",
    "            img = inp_data[idx]\n",
    "            max_res = max(result[0], key=lambda x: x[-1]).astype(np.int)    \n",
    "            jersey_crop = img[max_res[1] - offset: max_res[3] + offset, \n",
    "                              max_res[0] - offset: max_res[2] + offset, :]\n",
    "\n",
    "\n",
    "            if 0 in jersey_crop.shape:\n",
    "                jersey_crop = img[max_res[1]: max_res[3], \n",
    "                              max_res[0]: max_res[2], :]\n",
    "            if 0 in jersey_crop.shape:\n",
    "                all_ += 1\n",
    "                continue\n",
    "\n",
    "            jersey_res = _infer_jersey(class_model, jersey_crop)\n",
    "            jersey_res = int(''.join([str(x) for x in jersey_res if x!=10]))\n",
    "            \n",
    "            label = os.path.basename(img_paths[idx]).split('_')[-1].replace('.jpg', '')\n",
    "\n",
    "            if jersey_res==int(label):\n",
    "                crct += 1\n",
    "            all_ += 1\n",
    "\n",
    "    \n",
    "    print('Accuracy using the detector is ', 100 * (crct / all_))\n",
    "    return jersey_crop\n",
    "\n",
    "\n",
    "jersey_crop = infer_batch(val_paths, det_model, class_model)"
   ]
  },
  {
   "cell_type": "code",
   "execution_count": 33,
   "metadata": {},
   "outputs": [
    {
     "data": {
      "text/plain": [
       "<matplotlib.image.AxesImage at 0x7fb585f68450>"
      ]
     },
     "execution_count": 33,
     "metadata": {},
     "output_type": "execute_result"
    },
    {
     "data": {
      "image/png": "[encoded data removed]",
      "text/plain": [
       "<Figure size 432x288 with 1 Axes>"
      ]
     },
     "metadata": {
      "needs_background": "light"
     },
     "output_type": "display_data"
    }
   ],
   "source": [
    "plt.imshow(jersey_crop)"
   ]
  },
  {
   "cell_type": "code",
   "execution_count": 32,
   "metadata": {},
   "outputs": [
    {
     "data": {
      "text/plain": [
       "<matplotlib.image.AxesImage at 0x7f10443c8f10>"
      ]
     },
     "execution_count": 32,
     "metadata": {},
     "output_type": "execute_result"
    },
    {
     "data": {
      "image/png": "[encoded data removed]",
      "text/plain": [
       "<Figure size 432x288 with 1 Axes>"
      ]
     },
     "metadata": {
      "needs_background": "light"
     },
     "output_type": "display_data"
    }
   ],
   "source": [
    "out = mmcv.imshow_bboxes(img, result, show=False)\n",
    "plt.imshow(out)"
   ]
  },
  {
   "cell_type": "code",
   "execution_count": 3,
   "metadata": {},
   "outputs": [
    {
     "name": "stderr",
     "output_type": "stream",
     "text": [
      "Downloading: \"https://github.com/pytorch/vision/archive/v0.6.0.zip\" to /home/ubuntu/.cache/torch/hub/v0.6.0.zip\n",
      "Downloading: \"https://download.pytorch.org/models/mobilenet_v2-b0353104.pth\" to /home/ubuntu/.cache/torch/hub/checkpoints/mobilenet_v2-b0353104.pth\n"
     ]
    },
    {
     "data": {
      "application/vnd.jupyter.widget-view+json": {
       "model_id": "ae8b7702575d47d38501800f08e7b60a",
       "version_major": 2,
       "version_minor": 0
      },
      "text/plain": [
       "HBox(children=(HTML(value=''), FloatProgress(value=0.0, max=14212972.0), HTML(value='')))"
      ]
     },
     "metadata": {},
     "output_type": "display_data"
    },
    {
     "name": "stdout",
     "output_type": "stream",
     "text": [
      "\n"
     ]
    }
   ],
   "source": [
    "mobile = torch.hub.load('pytorch/vision:v0.6.0', 'mobilenet_v2', pretrained=True)"
   ]
  },
  {
   "cell_type": "code",
   "execution_count": 2,
   "metadata": {},
   "outputs": [],
   "source": [
    "from torchvision.models.mobilenet import MobileNetV2\n",
    "from torchvision.models.resnet import ResNet, Bottleneck"
   ]
  },
  {
   "cell_type": "code",
   "execution_count": 3,
   "metadata": {
    "code_folding": [
     0
    ]
   },
   "outputs": [],
   "source": [
    "class ResNet50Jersey(ResNet):\n",
    "    def __init__(self, block, layers):\n",
    "        super(ResNet50Jersey, self).__init__(block, layers)\n",
    "        \n",
    "        self.fc = nn.Linear(512 * block.expansion, 4)\n",
    "        self._digit1 = nn.Linear(512 * block.expansion, 11)\n",
    "        self._digit2 = nn.Linear(512 * block.expansion, 11)\n",
    "        \n",
    "    def _forward_impl(self, x):\n",
    "        # See note [TorchScript super()]\n",
    "        x = self.conv1(x)\n",
    "        x = self.bn1(x)\n",
    "        x = self.relu(x)\n",
    "        x = self.maxpool(x)\n",
    "\n",
    "        x = self.layer1(x)\n",
    "        x = self.layer2(x)\n",
    "        x = self.layer3(x)\n",
    "        x = self.layer4(x)\n",
    "\n",
    "        x = self.avgpool(x)\n",
    "        x = torch.flatten(x, 1)\n",
    "        \n",
    "        length_logits = self.fc(x)\n",
    "        digit1_logits = self._digit1(x)\n",
    "        digit2_logits = self._digit2(x)\n",
    "\n",
    "        return length_logits, digit1_logits, digit2_logits"
   ]
  },
  {
   "cell_type": "code",
   "execution_count": 4,
   "metadata": {},
   "outputs": [],
   "source": [
    "r50 = ResNet50Jersey(Bottleneck, [3, 4, 6, 3])"
   ]
  },
  {
   "cell_type": "code",
   "execution_count": 5,
   "metadata": {},
   "outputs": [
    {
     "data": {
      "text/plain": [
       "(tensor([[-0.0145, -0.6461, -0.0444, -0.3736]], grad_fn=<AddmmBackward>),\n",
       " tensor([[-0.0643,  0.4664,  1.1812, -0.4559, -0.2835,  0.0154,  0.0290, -0.9409,\n",
       "           1.0347,  0.4989, -0.2786]], grad_fn=<AddmmBackward>),\n",
       " tensor([[-0.2194, -0.3891, -0.6125,  0.0728,  0.6496, -0.2755, -0.0445, -0.0297,\n",
       "          -0.2700, -1.2631,  0.1732]], grad_fn=<AddmmBackward>))"
      ]
     },
     "execution_count": 5,
     "metadata": {},
     "output_type": "execute_result"
    }
   ],
   "source": [
    "r50(torch.randn(1,3,224,224))"
   ]
  },
  {
   "cell_type": "markdown",
   "metadata": {},
   "source": [
    "### TensorRT"
   ]
  },
  {
   "cell_type": "code",
   "execution_count": 19,
   "metadata": {},
   "outputs": [
    {
     "ename": "ModuleNotFoundError",
     "evalue": "No module named 'torch2trt_dynamic'",
     "output_type": "error",
     "traceback": [
      "\u001b[0;31m---------------------------------------------------------------------------\u001b[0m",
      "\u001b[0;31mModuleNotFoundError\u001b[0m                       Traceback (most recent call last)",
      "\u001b[0;32m<ipython-input-19-9118e5d0b1b4>\u001b[0m in \u001b[0;36m<module>\u001b[0;34m\u001b[0m\n\u001b[1;32m      2\u001b[0m \u001b[0;32mfrom\u001b[0m \u001b[0mtorch2trt\u001b[0m \u001b[0;32mimport\u001b[0m \u001b[0mtorch2trt\u001b[0m\u001b[0;34m\u001b[0m\u001b[0;34m\u001b[0m\u001b[0m\n\u001b[1;32m      3\u001b[0m \u001b[0;32mfrom\u001b[0m \u001b[0mtorchvision\u001b[0m\u001b[0;34m.\u001b[0m\u001b[0mmodels\u001b[0m\u001b[0;34m.\u001b[0m\u001b[0malexnet\u001b[0m \u001b[0;32mimport\u001b[0m \u001b[0malexnet\u001b[0m\u001b[0;34m\u001b[0m\u001b[0;34m\u001b[0m\u001b[0m\n\u001b[0;32m----> 4\u001b[0;31m \u001b[0;32mfrom\u001b[0m \u001b[0mtorch2trt_dynamic\u001b[0m \u001b[0;32mimport\u001b[0m \u001b[0mtorch2trt_dynamic\u001b[0m\u001b[0;34m\u001b[0m\u001b[0;34m\u001b[0m\u001b[0m\n\u001b[0m\u001b[1;32m      5\u001b[0m \u001b[0;34m\u001b[0m\u001b[0m\n\u001b[1;32m      6\u001b[0m \u001b[0;31m# create example data\u001b[0m\u001b[0;34m\u001b[0m\u001b[0;34m\u001b[0m\u001b[0;34m\u001b[0m\u001b[0m\n",
      "\u001b[0;31mModuleNotFoundError\u001b[0m: No module named 'torch2trt_dynamic'"
     ]
    }
   ],
   "source": [
    "import torch\n",
    "from torch2trt import torch2trt\n",
    "from torchvision.models.alexnet import alexnet\n",
    "from torch2trt_dynamic import torch2trt_dynamic\n",
    "\n",
    "# create example data\n",
    "x = torch.ones((1, 3, 54, 54)).cuda()\n",
    "\n",
    "# convert to TensorRT feeding sample data as input\n",
    "model_trt = torch2trt_dynamic(class_model, [x], fp16_mode=True)"
   ]
  },
  {
   "cell_type": "code",
   "execution_count": 17,
   "metadata": {},
   "outputs": [
    {
     "name": "stdout",
     "output_type": "stream",
     "text": [
      "0.17813611030578613\n"
     ]
    }
   ],
   "source": [
    "x_trt = torch.rand((2, 3, 54, 54)).cuda()\n",
    "\n",
    "\n",
    "st = time.time()\n",
    "for i in range(1000):\n",
    "    r = model_trt(x_trt)\n",
    "#     print(r[0].shape, r[1].shape, r[2].shape)\n",
    "#     break\n",
    "print(time.time() - st)"
   ]
  },
  {
   "cell_type": "code",
   "execution_count": 18,
   "metadata": {},
   "outputs": [
    {
     "name": "stdout",
     "output_type": "stream",
     "text": [
      "2.8358495235443115\n"
     ]
    }
   ],
   "source": [
    "x_orig = torch.rand((2, 3, 54, 54)).cuda()\n",
    "\n",
    "\n",
    "st = time.time()\n",
    "for i in range(1000):\n",
    "    r = class_model(x_orig)\n",
    "#     print(r[0].shape, r[1].shape, r[2].shape)\n",
    "#     break\n",
    "print(time.time() - st)"
   ]
  },
  {
   "cell_type": "code",
   "execution_count": null,
   "metadata": {},
   "outputs": [],
   "source": []
  }
 ],
 "metadata": {
  "kernelspec": {
   "display_name": "Python 3",
   "language": "python",
   "name": "python3"
  },
  "language_info": {
   "codemirror_mode": {
    "name": "ipython",
    "version": 3
   },
   "file_extension": ".py",
   "mimetype": "text/x-python",
   "name": "python",
   "nbconvert_exporter": "python",
   "pygments_lexer": "ipython3",
   "version": "3.7.8"
  }
 },
 "nbformat": 4,
 "nbformat_minor": 4
}
