{
 "cells": [
  {
   "cell_type": "code",
   "execution_count": 12,
   "metadata": {},
   "outputs": [],
   "source": [
    "import os\n",
    "import cv2\n",
    "import json\n",
    "import glob\n",
    "import random\n",
    "import numpy as np\n",
    "import os.path as osp\n",
    "from tqdm.notebook import tqdm\n",
    "import matplotlib.pyplot as plt"
   ]
  },
  {
   "cell_type": "code",
   "execution_count": 3,
   "metadata": {
    "code_folding": [
     0
    ]
   },
   "outputs": [],
   "source": [
    "def crop_from_orig_anno(jersey_anno_dir, imgs_dir, output_dir, offset = 3):\n",
    "    all_anno = []\n",
    "    \n",
    "    ### go through each game\n",
    "    for anno_dir in tqdm(jersey_anno_dir): \n",
    "        \n",
    "        dir_path = osp.join(output_dir, anno_dir.split('/')[-1])\n",
    "        if not osp.exists(dir_path):\n",
    "            os.makedirs(dir_path)\n",
    "        \n",
    "\n",
    "        ### go through each json data\n",
    "        js_dir  = sorted(glob.glob(anno_dir + '/*.json'))\n",
    "        for jersey_js in js_dir:\n",
    "\n",
    "            ### Load new jersey data\n",
    "            with open(jersey_js) as f:\n",
    "                jersey_data = json.load(f)\n",
    "                \n",
    "            frame_num = osp.basename(jersey_js).replace('.json', '')\n",
    "\n",
    "            ### Load image data\n",
    "            \n",
    "            img_path = os.path.join(imgs_dir, os.path.basename(anno_dir), os.path.basename(jersey_js).replace('.json', '.jpg'))\n",
    "            if not os.path.exists(img_path):\n",
    "                img_path = os.path.join(imgs_dir, os.path.basename(anno_dir), 'frame_' + os.path.basename(jersey_js).replace('.json', '.jpg'))\n",
    "            \n",
    "            \n",
    "            img = cv2.imread(img_path)\n",
    "\n",
    "            for shape in jersey_data['shapes']:\n",
    "\n",
    "                label = shape['label']\n",
    "                if 'j' in label:\n",
    "                    label_split = label.split('_')\n",
    "                    if len(label_split)==3:\n",
    "                        track_id = label_split[1]\n",
    "                        jersey_num = label_split[2]\n",
    "                    elif len(label_split)==4:\n",
    "                        track_id = label_split[1] + '_' + label_split[2]\n",
    "                        jersey_num = label_split[-1]\n",
    "                    \n",
    "                    bbox_ = np.array([[int(x) for x in y] for y in shape['points']])\n",
    "                    bbox_ = bbox_.flatten()\n",
    "\n",
    "                    bbox_img = img[bbox_[1] - offset: bbox_[3] + offset, \n",
    "                                   bbox_[0] - offset: bbox_[2] + offset, :]\n",
    "                    h,w,c = bbox_img.shape\n",
    "                    \n",
    "                    \n",
    "                    output_path = osp.join(dir_path, '_'.join([str(frame_num), track_id, jersey_num]) + '.jpg')\n",
    "                    \n",
    "                    if h!=0 and w!=0:\n",
    "                        cv2.imwrite(output_path, bbox_img)\n",
    "                        all_anno.append((output_path, jersey_num))\n",
    "                        \n",
    "    return all_anno"
   ]
  },
  {
   "cell_type": "markdown",
   "metadata": {},
   "source": [
    "### First task"
   ]
  },
  {
   "cell_type": "code",
   "execution_count": 4,
   "metadata": {},
   "outputs": [],
   "source": [
    "imgs_dir = '/home/ubuntu/oljike/data/playerTrackingFrames/'\n",
    "jersey_anno_dir = glob.glob('/home/ubuntu/oljike/PlayerTracking/data/second_task/*')\n",
    "output_dir = '/home/ubuntu/oljike/ocr_jersey/JerseyClassifier/data/jersey_crops/'"
   ]
  },
  {
   "cell_type": "code",
   "execution_count": 5,
   "metadata": {
    "code_folding": [
     0
    ]
   },
   "outputs": [
    {
     "data": {
      "application/vnd.jupyter.widget-view+json": {
       "model_id": "678f3c463fdf4906924777a44d668656",
       "version_major": 2,
       "version_minor": 0
      },
      "text/plain": [
       "HBox(children=(HTML(value=''), FloatProgress(value=0.0, max=41.0), HTML(value='')))"
      ]
     },
     "metadata": {},
     "output_type": "display_data"
    },
    {
     "name": "stdout",
     "output_type": "stream",
     "text": [
      "\n",
      "Number of samples is  21513\n"
     ]
    }
   ],
   "source": [
    "all_anno = crop_from_orig_anno(jersey_anno_dir, imgs_dir, output_dir, 2)\n",
    "print(\"Number of samples is \", len(all_anno))"
   ]
  },
  {
   "cell_type": "markdown",
   "metadata": {},
   "source": [
    "### Second task"
   ]
  },
  {
   "cell_type": "code",
   "execution_count": 6,
   "metadata": {},
   "outputs": [],
   "source": [
    "imgs_dir = '/home/ubuntu/oljike/data/playerTrackingFrames2/'\n",
    "jersey_anno_dir = glob.glob('/home/ubuntu/oljike/PlayerTracking/data/third_task/*')\n",
    "output_dir = '/home/ubuntu/oljike/ocr_jersey/JerseyClassifier/data/jersey_crops/'"
   ]
  },
  {
   "cell_type": "code",
   "execution_count": 7,
   "metadata": {
    "code_folding": []
   },
   "outputs": [
    {
     "data": {
      "application/vnd.jupyter.widget-view+json": {
       "model_id": "74e9a741d67a409d82a91f6cbc704889",
       "version_major": 2,
       "version_minor": 0
      },
      "text/plain": [
       "HBox(children=(HTML(value=''), FloatProgress(value=0.0, max=9.0), HTML(value='')))"
      ]
     },
     "metadata": {},
     "output_type": "display_data"
    },
    {
     "name": "stdout",
     "output_type": "stream",
     "text": [
      "\n",
      "Number of samples is  27197\n"
     ]
    }
   ],
   "source": [
    "all_anno.extend(crop_from_orig_anno(jersey_anno_dir, imgs_dir, output_dir, 2))\n",
    "print(\"Number of samples is \", len(all_anno))"
   ]
  },
  {
   "cell_type": "markdown",
   "metadata": {},
   "source": [
    "### Create the label files"
   ]
  },
  {
   "cell_type": "code",
   "execution_count": 8,
   "metadata": {},
   "outputs": [
    {
     "data": {
      "application/vnd.jupyter.widget-view+json": {
       "model_id": "b4ef201e1e29411a831a2861fe488c21",
       "version_major": 2,
       "version_minor": 0
      },
      "text/plain": [
       "HBox(children=(HTML(value=''), FloatProgress(value=0.0, max=27197.0), HTML(value='')))"
      ]
     },
     "metadata": {},
     "output_type": "display_data"
    },
    {
     "name": "stdout",
     "output_type": "stream",
     "text": [
      "\n"
     ]
    }
   ],
   "source": [
    "val_dirs = ['2020.01.04-Duke_at_MiamiFL', '2019-01-12_Tennessee_at_Florida', '2020.02.03-NorthCarolina_at_FloridaState', \n",
    "           '2018.11.27-Indiana_at_Duke', '2019-02-11_Virginia_at_North_Carolina', '2019.01.22-Duke_at_Pittsburgh', \n",
    "           '2019.02.26-Duke_at_VirginiaTech', '2019.03.14-ACC-Syracuse_at_Duke', \n",
    "           '2020.02.13-Colorado_at_Oregon', '2020.02.22-Michigan_at_Purdue', \n",
    "            '2020.02.25-NorthCarolinaState_at_NorthCarolina']\n",
    "\n",
    "f_train = open('./data/jersey_crops_train.txt', 'w')\n",
    "f_val = open('./data/jersey_crops_val.txt', 'w')\n",
    "\n",
    "for anno in tqdm(all_anno):\n",
    "    dir_name = anno[0].split('/')[-2]\n",
    "    \n",
    "    if dir_name in val_dirs:\n",
    "        f_val.writelines(','.join([anno[0], anno[1]]) + '\\n')\n",
    "    else:\n",
    "        f_train.writelines(','.join([anno[0], anno[1]]) + '\\n')\n",
    "        \n",
    "f_train.close()\n",
    "f_val.close()"
   ]
  },
  {
   "cell_type": "code",
   "execution_count": 9,
   "metadata": {},
   "outputs": [
    {
     "name": "stdout",
     "output_type": "stream",
     "text": [
      "Number of train samples is 22098 and val samples is 5099\n"
     ]
    }
   ],
   "source": [
    "with open('./data/jersey_crops_train.txt') as f:\n",
    "    train_data = f.readlines()\n",
    "    \n",
    "with open('./data/jersey_crops_val.txt') as f:\n",
    "    val_data = f.readlines()\n",
    "    \n",
    "print(\"Number of train samples is {} and val samples is {}\".format(len(train_data), len(val_data)))  "
   ]
  },
  {
   "cell_type": "code",
   "execution_count": 35,
   "metadata": {},
   "outputs": [
    {
     "name": "stdout",
     "output_type": "stream",
     "text": [
      "Label  2\n",
      "\n"
     ]
    },
    {
     "data": {
      "text/plain": [
       "<matplotlib.image.AxesImage at 0x7f6dbcdfa150>"
      ]
     },
     "execution_count": 35,
     "metadata": {},
     "output_type": "execute_result"
    },
    {
     "data": {
      "image/png": "[encoded data removed]",
      "text/plain": [
       "<Figure size 432x288 with 1 Axes>"
      ]
     },
     "metadata": {
      "needs_background": "light"
     },
     "output_type": "display_data"
    }
   ],
   "source": [
    "idx = random.choice(range(len(train_data)))\n",
    "img = cv2.imread(train_data[idx].split(',')[0])\n",
    "print('Label ', train_data[idx].split(',')[1])\n",
    "plt.imshow(img)"
   ]
  },
  {
   "cell_type": "code",
   "execution_count": null,
   "metadata": {},
   "outputs": [],
   "source": []
  },
  {
   "cell_type": "code",
   "execution_count": null,
   "metadata": {},
   "outputs": [],
   "source": []
  }
 ],
 "metadata": {
  "kernelspec": {
   "display_name": "Python 3",
   "language": "python",
   "name": "python3"
  },
  "language_info": {
   "codemirror_mode": {
    "name": "ipython",
    "version": 3
   },
   "file_extension": ".py",
   "mimetype": "text/x-python",
   "name": "python",
   "nbconvert_exporter": "python",
   "pygments_lexer": "ipython3",
   "version": "3.7.8"
  }
 },
 "nbformat": 4,
 "nbformat_minor": 4
}
