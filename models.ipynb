{
 "cells": [
  {
   "cell_type": "markdown",
   "metadata": {},
   "source": [
    "### Here, I will experiment with new models"
   ]
  },
  {
   "cell_type": "code",
   "execution_count": 54,
   "metadata": {},
   "outputs": [],
   "source": [
    "import torch\n",
    "from torch import nn\n",
    "from vit_pytorch.vit import Transformer\n",
    "from einops.layers.torch import Rearrange\n",
    "from einops import rearrange, repeat"
   ]
  },
  {
   "cell_type": "code",
   "execution_count": 77,
   "metadata": {},
   "outputs": [],
   "source": [
    "class VitModel(nn.Module):\n",
    "    \n",
    "    def __init__(self, *, image_size, patch_size, \n",
    "                 dim, depth, heads, mlp_dim, num_classes=1000, pool = 'cls', channels = 3, \n",
    "                 dim_head = 64, dropout = 0., emb_dropout = 0.):\n",
    "        super().__init__()\n",
    "        \n",
    "        assert image_size % patch_size == 0, 'Image dimensions must be divisible by the patch size.'\n",
    "        num_patches = (image_size // patch_size) ** 2\n",
    "        patch_dim = channels * patch_size ** 2\n",
    "        assert pool in {'cls', 'mean'}, 'pool type must be either cls (cls token) or mean (mean pooling)'\n",
    "\n",
    "        self.to_patch_embedding = nn.Sequential(\n",
    "            Rearrange('b c (h p1) (w p2) -> b (h w) (p1 p2 c)', p1 = patch_size, p2 = patch_size),\n",
    "            nn.Linear(patch_dim, dim),\n",
    "        )\n",
    "\n",
    "        self.pos_embedding = nn.Parameter(torch.randn(1, num_patches + 1, dim))\n",
    "        self.cls_token = nn.Parameter(torch.randn(1, 1, dim))\n",
    "        self.dropout = nn.Dropout(emb_dropout)\n",
    "\n",
    "        self.transformer = Transformer(dim, depth, heads, dim_head, mlp_dim, dropout)\n",
    "\n",
    "        self.pool = pool\n",
    "        self.to_latent = nn.Identity()\n",
    "\n",
    "        \n",
    "\n",
    "        self.mlp_head = nn.Sequential(\n",
    "            nn.LayerNorm(1024, elementwise_affine=True),\n",
    "            nn.Linear(1024, 4))\n",
    "        self._digit1 = nn.Sequential(\n",
    "            nn.LayerNorm(1024, elementwise_affine=True),\n",
    "            nn.Linear(1024, 11))\n",
    "        self._digit2 = nn.Sequential(\n",
    "            nn.LayerNorm(1024, elementwise_affine=True),\n",
    "            nn.Linear(1024, 11))\n",
    "        \n",
    "    def forward(self, img):\n",
    "        x = self.to_patch_embedding(img)\n",
    "        b, n, _ = x.shape\n",
    "\n",
    "        cls_tokens = repeat(self.cls_token, '() n d -> b n d', b = b)\n",
    "        x = torch.cat((cls_tokens, x), dim=1)\n",
    "        x += self.pos_embedding[:, :(n + 1)]\n",
    "        x = self.dropout(x)\n",
    "\n",
    "        x = self.transformer(x)\n",
    "\n",
    "        x = x.mean(dim = 1) if self.pool == 'mean' else x[:, 0]\n",
    "\n",
    "        x = self.to_latent(x)\n",
    "\n",
    "        length_logits = self.mlp_head(x)\n",
    "        digit1_logits = self._digit1(x)\n",
    "        digit2_logits = self._digit2(x)\n",
    "\n",
    "        return length_logits, digit1_logits, digit2_logits\n",
    "    \n",
    "jerseyVit = VitModel(image_size = 256,\n",
    "                        patch_size = 32,\n",
    "                        dim = 1024,\n",
    "                        depth = 6,\n",
    "                        heads = 16,\n",
    "                        mlp_dim = 2048,\n",
    "                        dropout = 0.1,\n",
    "                        emb_dropout = 0.1)\n",
    "\n",
    "img = torch.randn(1, 3, 256, 256)\n",
    "preds = jerseyVit(img) # (1, 1000)\n",
    "\n",
    "\n",
    "jerseyVit = VitModel(image_size = 64,\n",
    "                        patch_size = 16,\n",
    "                        dim = 1024,\n",
    "                        depth = 6,\n",
    "                        heads = 16,\n",
    "                        mlp_dim = 2048,\n",
    "                        dropout = 0.1,\n",
    "                        emb_dropout = 0.1)\n",
    "\n",
    "img = torch.randn(1, 3, 64, 64)\n",
    "preds = jerseyVit(img)"
   ]
  },
  {
   "cell_type": "code",
   "execution_count": 78,
   "metadata": {},
   "outputs": [
    {
     "data": {
      "text/plain": [
       "(torch.Size([1, 4]), torch.Size([1, 11]), torch.Size([1, 11]))"
      ]
     },
     "execution_count": 78,
     "metadata": {},
     "output_type": "execute_result"
    }
   ],
   "source": [
    "preds[0].shape, preds[1].shape, preds[2].shape"
   ]
  },
  {
   "cell_type": "code",
   "execution_count": null,
   "metadata": {},
   "outputs": [],
   "source": []
  }
 ],
 "metadata": {
  "kernelspec": {
   "display_name": "Python 3",
   "language": "python",
   "name": "python3"
  },
  "language_info": {
   "codemirror_mode": {
    "name": "ipython",
    "version": 3
   },
   "file_extension": ".py",
   "mimetype": "text/x-python",
   "name": "python",
   "nbconvert_exporter": "python",
   "pygments_lexer": "ipython3",
   "version": "3.7.8"
  }
 },
 "nbformat": 4,
 "nbformat_minor": 4
}
