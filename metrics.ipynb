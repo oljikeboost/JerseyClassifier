{
 "cells": [
  {
   "cell_type": "code",
   "execution_count": 1,
   "metadata": {},
   "outputs": [],
   "source": [
    "from evaluator import JerseyEvaluator, JerseyDetEvaluator\n",
    "from model import JerseyModel, ResNetJersey\n",
    "import numpy as np\n",
    "import matplotlib.pyplot as plt"
   ]
  },
  {
   "cell_type": "code",
   "execution_count": 4,
   "metadata": {},
   "outputs": [
    {
     "name": "stdout",
     "output_type": "stream",
     "text": [
      "Number of samples is  8804\n",
      "Length accuracy  0.9751249432076329\n",
      "Accuracy by first number:  {0: [382, 426], 1: [2411, 2583], 2: [1913, 1984], 3: [1631, 1725], 4: [424, 464], 5: [1568, 1619], 6: [0, 0], 7: [0, 3], 8: [0, 0], 9: [0, 0], 10: [0, 0]}\n",
      "Accuracy by second number:  {0: [692, 786], 1: [589, 633], 2: [390, 445], 3: [759, 810], 4: [408, 422], 5: [903, 976], 6: [0, 0], 7: [0, 2], 8: [0, 0], 9: [0, 28], 10: [4653, 4702]}\n",
      "Accuracy by first number:  {0: 0.8967136150234741, 1: 0.9334107626790553, 2: 0.9642137096774194, 3: 0.9455072463768116, 4: 0.9137931034482759, 5: 0.9684990735021618, 7: 0.0}\n",
      "Accuracy by second number:  {0: 0.8804071246819338, 1: 0.9304897314375987, 2: 0.8764044943820225, 3: 0.937037037037037, 4: 0.966824644549763, 5: 0.9252049180327869, 7: 0.0, 9: 0.0, 10: 0.9895789025946405}\n",
      "==> accuracy = 0.915947, best accuracy 0.000000\n"
     ]
    }
   ],
   "source": [
    "evaluator = JerseyEvaluator('./data/jersey_crops_val.txt', 32)\n",
    "\n",
    "\n",
    "model = JerseyModel(inter_size=5)\n",
    "model.restore('./work_dirs/basic_newdata_trash_32/model-428507.pth')\n",
    "model.cuda()\n",
    "\n",
    "best_accuracy = 0\n",
    "accuracy = evaluator.evaluate(model)\n",
    "print('==> accuracy = %f, best accuracy %f' % (accuracy, best_accuracy))"
   ]
  },
  {
   "cell_type": "markdown",
   "metadata": {},
   "source": [
    "### Balance between single numbers and two numbers"
   ]
  },
  {
   "cell_type": "code",
   "execution_count": 10,
   "metadata": {},
   "outputs": [
    {
     "name": "stdout",
     "output_type": "stream",
     "text": [
      "l1:  0.5340754202635166 , l2:  0.46592457973648344\n"
     ]
    }
   ],
   "source": [
    "l1, l2, s = 0, 0, 0\n",
    "for batch_idx, (images, length_labels, digits_labels) in enumerate(evaluator._loader):\n",
    "    for l in length_labels:\n",
    "        s += 1\n",
    "        if l==1:\n",
    "            l1+=1\n",
    "        elif l==2:\n",
    "            l2 += 1\n",
    "print('l1: ', l1/s, ', l2: ', l2/s)"
   ]
  },
  {
   "cell_type": "code",
   "execution_count": 38,
   "metadata": {},
   "outputs": [
    {
     "data": {
      "text/plain": [
       "(24, 14, 3)"
      ]
     },
     "execution_count": 38,
     "metadata": {},
     "output_type": "execute_result"
    }
   ],
   "source": [
    "cv2.imread('./data/jersey_crops/2018-11-28_Virginia_at_Maryland/010959_10_0.jpg').shape\n"
   ]
  },
  {
   "cell_type": "code",
   "execution_count": 24,
   "metadata": {},
   "outputs": [],
   "source": [
    "answer = {0:0, 1:0, 2:0, 3:0, 4:0, 5:0, 6:0, 7:0, 8:0, 9:0, 10:0}"
   ]
  },
  {
   "cell_type": "code",
   "execution_count": 13,
   "metadata": {},
   "outputs": [
    {
     "data": {
      "text/plain": [
       "tensor([2, 2, 1, 2, 2, 1, 2, 2, 1, 2, 2, 1, 2, 2, 1, 2, 1, 2, 1, 1, 2, 1, 1, 2,\n",
       "        1, 1, 1, 2, 1, 1, 1, 2, 1, 1, 1, 2, 1, 1, 1, 2, 1, 1, 2, 2, 1, 1, 2, 1,\n",
       "        1, 2, 1, 1, 2, 1, 1, 2, 1, 1, 2, 1, 1, 2, 2, 2, 2, 2, 2, 2, 2, 2, 1, 2,\n",
       "        2, 2, 2, 2, 2, 1, 2, 2, 1, 2, 2, 1, 1, 2, 2, 1, 1, 1, 2, 2, 1, 2, 1, 2,\n",
       "        2, 1, 2, 1])"
      ]
     },
     "execution_count": 13,
     "metadata": {},
     "output_type": "execute_result"
    }
   ],
   "source": [
    "for dl in digits_labels[0]:\n",
    "    if dl"
   ]
  },
  {
   "cell_type": "code",
   "execution_count": 23,
   "metadata": {},
   "outputs": [
    {
     "name": "stderr",
     "output_type": "stream",
     "text": [
      "Clipping input data to the valid range for imshow with RGB data ([0..1] for floats or [0..255] for integers).\n"
     ]
    },
    {
     "data": {
      "text/plain": [
       "<matplotlib.image.AxesImage at 0x7f91540ed910>"
      ]
     },
     "execution_count": 23,
     "metadata": {},
     "output_type": "execute_result"
    },
    {
     "data": {
      "image/png": "[encoded data removed]",
      "text/plain": [
       "<Figure size 432x288 with 1 Axes>"
      ]
     },
     "metadata": {
      "needs_background": "light"
     },
     "output_type": "display_data"
    }
   ],
   "source": [
    "idx = 1\n",
    "img = images[idx].permute(1,2,0).numpy()\n",
    "plt.imshow(img)"
   ]
  },
  {
   "cell_type": "markdown",
   "metadata": {},
   "source": [
    "### Get some random crops and save to Trash dir"
   ]
  },
  {
   "cell_type": "code",
   "execution_count": 15,
   "metadata": {},
   "outputs": [
    {
     "name": "stdout",
     "output_type": "stream",
     "text": [
      "76\n",
      "number of new images  3790\n"
     ]
    }
   ],
   "source": [
    "import glob\n",
    "import os\n",
    "import cv2\n",
    "import random\n",
    "\n",
    "inp_dirs = glob.glob('../yolo_jersey_region/data/player_crops/*')\n",
    "output_dir = './data/trash'\n",
    "print(len(inp_dirs))\n",
    "\n",
    "idx = 0\n",
    "avg_w, avg_h = 0, 0\n",
    "outputs = []\n",
    "for inp_dir in inp_dirs:\n",
    "    curr_imgs = glob.glob(os.path.join(inp_dir, '*.jpg'))\n",
    "    if len(curr_imgs)>=50:\n",
    "        curr_sample = random.sample(curr_imgs, 50)\n",
    "    elif len(curr_imgs)>=40:\n",
    "        curr_sample = random.sample(curr_imgs, 40)\n",
    "    for img_path in curr_sample:\n",
    "        img = cv2.imread(img_path)\n",
    "        \n",
    "        h,w,c = img.shape\n",
    "        avg_w += w\n",
    "        avg_h += h\n",
    "        \n",
    "        \n",
    "        rand_w = random.randint(13, 25)\n",
    "        rand_h = random.randint(20, 30)\n",
    "        \n",
    "        rand_x = random.randint(0, w - rand_w)\n",
    "        rand_y = random.randint(int(h/2), h - rand_h)\n",
    "        \n",
    "        crop = img[rand_y : rand_y + 54, rand_x: rand_x + 54, :]\n",
    "        idx += 1\n",
    "        \n",
    "        outputs.append(os.path.join('/home/ubuntu/oljike/ocr_jersey/JerseyClassifier/data/trash', 'trash_' + str(idx) + '_None.jpg'))     \n",
    "        cv2.imwrite(os.path.join(output_dir, 'trash_' + str(idx) + '_None.jpg'), crop)\n",
    "        \n",
    "print(\"number of new images \", len(glob.glob(output_dir + '/*.jpg')))"
   ]
  },
  {
   "cell_type": "markdown",
   "metadata": {},
   "source": [
    "### Check model outputs for trash images"
   ]
  },
  {
   "cell_type": "code",
   "execution_count": 16,
   "metadata": {},
   "outputs": [],
   "source": [
    "from torchvision import transforms\n",
    "from PIL import Image\n",
    "from matplotlib import cm\n",
    "def to_pil(arr):\n",
    "    return Image.fromarray(arr.astype('uint8'), 'RGB')\n",
    "\n",
    "\n",
    "transform = transforms.Compose([\n",
    "#     transforms.CenterCrop([32, 54]),\n",
    "    transforms.ToTensor(),\n",
    "    transforms.Normalize([0.5, 0.5, 0.5], [0.5, 0.5, 0.5])\n",
    "])"
   ]
  },
  {
   "cell_type": "code",
   "execution_count": 18,
   "metadata": {},
   "outputs": [
    {
     "name": "stdout",
     "output_type": "stream",
     "text": [
      "False positive accuracy  0.9857519788918205\n",
      "False positive accuracy  0.9857519788918205\n",
      "tensor([0], device='cuda:0') tensor([10], device='cuda:0') tensor([10], device='cuda:0')\n"
     ]
    },
    {
     "data": {
      "text/plain": [
       "<matplotlib.image.AxesImage at 0x7fced465e650>"
      ]
     },
     "execution_count": 18,
     "metadata": {},
     "output_type": "execute_result"
    },
    {
     "data": {
      "image/png": "[encoded data removed]",
      "text/plain": [
       "<Figure size 432x288 with 1 Axes>"
      ]
     },
     "metadata": {
      "needs_background": "light"
     },
     "output_type": "display_data"
    }
   ],
   "source": [
    "num_incor = 0\n",
    "num_cor = 0\n",
    "\n",
    "input_imgs = glob.glob('./data/trash/*jpg')\n",
    "\n",
    "false_pos = []\n",
    "for idx in range(len(input_imgs)):\n",
    "    img = cv2.imread(input_imgs[idx])\n",
    "    img = cv2.resize(img, (32, 32))\n",
    "\n",
    "    tens = transform(to_pil(img)).unsqueeze(0).cuda()\n",
    "\n",
    "    length_logits, digit1_logits, digit2_logits = model.eval()(tens)\n",
    "\n",
    "    length_prediction = length_logits.max(1)[1]\n",
    "    digit1_prediction = digit1_logits.max(1)[1]\n",
    "    digit2_prediction = digit2_logits.max(1)[1]\n",
    "    \n",
    "    \n",
    "    \n",
    "    if length_prediction.cpu().item() != 0:\n",
    "        num_incor += 1\n",
    "        false_pos.append((img, digit1_prediction, digit2_prediction))\n",
    "    elif length_prediction.cpu().item() == 0:\n",
    "        num_cor += 1\n",
    "\n",
    "print(\"False positive accuracy \", 1 - num_incor / len(input_imgs))\n",
    "print(\"False positive accuracy \", num_cor / len(input_imgs))\n",
    "print(length_prediction, digit1_prediction, digit2_prediction)\n",
    "plt.imshow(img)"
   ]
  },
  {
   "cell_type": "code",
   "execution_count": 19,
   "metadata": {},
   "outputs": [
    {
     "name": "stdout",
     "output_type": "stream",
     "text": [
      "tensor([3], device='cuda:0') tensor([4], device='cuda:0')\n"
     ]
    },
    {
     "data": {
      "text/plain": [
       "<matplotlib.image.AxesImage at 0x7fced4606b50>"
      ]
     },
     "execution_count": 19,
     "metadata": {},
     "output_type": "execute_result"
    },
    {
     "data": {
      "image/png": "[encoded data removed]",
      "text/plain": [
       "<Figure size 432x288 with 1 Axes>"
      ]
     },
     "metadata": {
      "needs_background": "light"
     },
     "output_type": "display_data"
    }
   ],
   "source": [
    "idx = 1\n",
    "print(false_pos[idx][1], false_pos[idx][2])\n",
    "plt.imshow(false_pos[idx][0])"
   ]
  },
  {
   "cell_type": "markdown",
   "metadata": {},
   "source": [
    "### Add new trash images to train and val files"
   ]
  },
  {
   "cell_type": "code",
   "execution_count": 86,
   "metadata": {},
   "outputs": [
    {
     "name": "stdout",
     "output_type": "stream",
     "text": [
      "2280\n"
     ]
    }
   ],
   "source": [
    "print(len(outputs))\n",
    "train_trash = outputs[:int(0.8*len(outputs))]\n",
    "val_trash = outputs[int(0.8*len(outputs)):]\n",
    "\n",
    "with open('./data/jersey_crops_train.txt') as f:\n",
    "    train_data = f.readlines()\n",
    "    \n",
    "with open('./data/jersey_crops_val.txt') as f:\n",
    "    val_data = f.readlines()"
   ]
  },
  {
   "cell_type": "code",
   "execution_count": 85,
   "metadata": {},
   "outputs": [
    {
     "data": {
      "text/plain": [
       "(36160,\n",
       " '/home/ubuntu/oljike/ocr_jersey/JerseyClassifier/data/jersey_crops/2020.02.15-NotreDame_at_Duke/004419_1_10.jpg,10\\n',\n",
       " True,\n",
       " '/home/ubuntu/oljike/ocr_jersey/JerseyClassifier/data/trash/trash_1_None.jpg')"
      ]
     },
     "execution_count": 85,
     "metadata": {},
     "output_type": "execute_result"
    }
   ],
   "source": [
    "len(train_data), train_data[0], os.path.exists(outputs[0]), outputs[0]"
   ]
  },
  {
   "cell_type": "code",
   "execution_count": 88,
   "metadata": {},
   "outputs": [
    {
     "name": "stdout",
     "output_type": "stream",
     "text": [
      "26.890032645324347 23.26824452401011\n"
     ]
    }
   ],
   "source": [
    "avg_h, avg_w = 0, 0\n",
    "for x in train_data:\n",
    "    path = x.strip().split(',')[0]\n",
    "    img = cv2.imread(path)\n",
    "    h,w,c = img.shape\n",
    "    \n",
    "    avg_h += h\n",
    "    avg_w += w\n",
    "    \n",
    "print(avg_h/len(train_data), avg_w/len(train_data),)"
   ]
  },
  {
   "cell_type": "code",
   "execution_count": 87,
   "metadata": {},
   "outputs": [],
   "source": [
    "for meta in train_trash:\n",
    "    train_data.append(meta + ',None\\n')\n",
    "    \n",
    "for meta in val_trash:\n",
    "    val_data.append(meta + ',None\\n')\n",
    "    \n",
    "with open('./data/jersey_crops_trash_train.txt', 'w') as f:\n",
    "    for x in train_data:\n",
    "        f.write(x)\n",
    "        \n",
    "with open('./data/jersey_crops_trash_val.txt', 'w') as f:\n",
    "    for x in val_data:\n",
    "        f.write(x)"
   ]
  }
 ],
 "metadata": {
  "kernelspec": {
   "display_name": "Python 3",
   "language": "python",
   "name": "python3"
  },
  "language_info": {
   "codemirror_mode": {
    "name": "ipython",
    "version": 3
   },
   "file_extension": ".py",
   "mimetype": "text/x-python",
   "name": "python",
   "nbconvert_exporter": "python",
   "pygments_lexer": "ipython3",
   "version": "3.7.8"
  }
 },
 "nbformat": 4,
 "nbformat_minor": 4
}
